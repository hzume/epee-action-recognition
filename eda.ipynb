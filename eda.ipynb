{
 "cells": [
  {
   "cell_type": "code",
   "execution_count": 42,
   "metadata": {},
   "outputs": [],
   "source": [
    "import pandas as pd\n",
    "import numpy as np"
   ]
  },
  {
   "cell_type": "code",
   "execution_count": 92,
   "metadata": {},
   "outputs": [],
   "source": [
    "video_df = pd.read_csv(\"input/data_10hz/video_label.csv\")"
   ]
  },
  {
   "cell_type": "code",
   "execution_count": 85,
   "metadata": {},
   "outputs": [],
   "source": [
    "df = pd.read_csv(\"input/data_10hz/frame_label.csv\")"
   ]
  },
  {
   "cell_type": "code",
   "execution_count": 86,
   "metadata": {},
   "outputs": [],
   "source": [
    "success_variations = [\"success\", \"hit\"]\n",
    "failure_variations = [\"failure\", \"miss\", \"fail\"]\n",
    "\n",
    "def process_row(x):\n",
    "    if not isinstance(x, str):\n",
    "        return \"\", \"\", \"\", \"\"\n",
    "    labels = x.split(\",\")[1:]\n",
    "    if len(labels) == 0:\n",
    "        return \"\", \"\", \"\", \"\"\n",
    "    \n",
    "    left_actions = []\n",
    "    right_actions = []\n",
    "    left_outcomes = []\n",
    "    right_outcomes = []\n",
    "    for label in labels:\n",
    "        side, action, outcome = label.split(\"_\")\n",
    "        if outcome in success_variations:\n",
    "            outcome = \"success\"\n",
    "        elif outcome in failure_variations:\n",
    "            outcome = \"failure\"\n",
    "        else:\n",
    "            raise ValueError(f\"Unknown outcome: {outcome}\")\n",
    "        if side == \"l\":\n",
    "            left_actions.append(action)\n",
    "            left_outcomes.append(outcome)\n",
    "        elif side == \"r\":\n",
    "            right_actions.append(action)\n",
    "            right_outcomes.append(outcome)\n",
    "        else:\n",
    "            raise ValueError(f\"Unknown side: {side}\")\n",
    "    \n",
    "    return \",\".join(left_actions), \",\".join(right_actions), \",\".join(left_outcomes), \",\".join(right_outcomes)"
   ]
  },
  {
   "cell_type": "code",
   "execution_count": 87,
   "metadata": {},
   "outputs": [],
   "source": [
    "data = {\n",
    "    \"left_actions\": [],\n",
    "    \"right_actions\": [],\n",
    "    \"left_outcomes\": [],\n",
    "    \"right_outcomes\": []\n",
    "}\n",
    "for i, row in df.iterrows():\n",
    "    left_actions, right_actions, left_outcomes, right_outcomes = process_row(row[\"labels\"])\n",
    "    data[\"left_actions\"].append(left_actions)\n",
    "    data[\"right_actions\"].append(right_actions)\n",
    "    data[\"left_outcomes\"].append(left_outcomes)\n",
    "    data[\"right_outcomes\"].append(right_outcomes)\n",
    "\n",
    "labels_df = pd.DataFrame(data)\n"
   ]
  },
  {
   "cell_type": "code",
   "execution_count": 91,
   "metadata": {},
   "outputs": [
    {
     "data": {
      "text/plain": [
       "array(['', 'lunge', 'parry', 'fleche', 'counter', 'prime', 'lunge,prime',\n",
       "       'prime,parry', 'counter,parry', 'parry,counter'], dtype=object)"
      ]
     },
     "execution_count": 91,
     "metadata": {},
     "output_type": "execute_result"
    }
   ],
   "source": [
    "labels_df[\"right_actions\"].unique()"
   ]
  },
  {
   "cell_type": "code",
   "execution_count": 35,
   "metadata": {},
   "outputs": [],
   "source": [
    "labels_df.to_csv(\"a.csv\")"
   ]
  },
  {
   "cell_type": "code",
   "execution_count": 36,
   "metadata": {},
   "outputs": [
    {
     "data": {
      "text/html": [
       "<div>\n",
       "<style scoped>\n",
       "    .dataframe tbody tr th:only-of-type {\n",
       "        vertical-align: middle;\n",
       "    }\n",
       "\n",
       "    .dataframe tbody tr th {\n",
       "        vertical-align: top;\n",
       "    }\n",
       "\n",
       "    .dataframe thead th {\n",
       "        text-align: right;\n",
       "    }\n",
       "</style>\n",
       "<table border=\"1\" class=\"dataframe\">\n",
       "  <thead>\n",
       "    <tr style=\"text-align: right;\">\n",
       "      <th></th>\n",
       "      <th>frame_filename</th>\n",
       "      <th>second</th>\n",
       "      <th>height</th>\n",
       "      <th>width</th>\n",
       "      <th>labels</th>\n",
       "      <th>video_filename</th>\n",
       "      <th>frame_idx</th>\n",
       "    </tr>\n",
       "  </thead>\n",
       "  <tbody>\n",
       "    <tr>\n",
       "      <th>0</th>\n",
       "      <td>2025-01-04_08-40-12_0.jpg</td>\n",
       "      <td>0.0</td>\n",
       "      <td>1080</td>\n",
       "      <td>1920</td>\n",
       "      <td>NaN</td>\n",
       "      <td>2025-01-04_08-40-12.mp4</td>\n",
       "      <td>0</td>\n",
       "    </tr>\n",
       "    <tr>\n",
       "      <th>1</th>\n",
       "      <td>2025-01-04_08-40-12_1.jpg</td>\n",
       "      <td>0.1</td>\n",
       "      <td>1080</td>\n",
       "      <td>1920</td>\n",
       "      <td>NaN</td>\n",
       "      <td>2025-01-04_08-40-12.mp4</td>\n",
       "      <td>1</td>\n",
       "    </tr>\n",
       "    <tr>\n",
       "      <th>2</th>\n",
       "      <td>2025-01-04_08-40-12_2.jpg</td>\n",
       "      <td>0.2</td>\n",
       "      <td>1080</td>\n",
       "      <td>1920</td>\n",
       "      <td>NaN</td>\n",
       "      <td>2025-01-04_08-40-12.mp4</td>\n",
       "      <td>2</td>\n",
       "    </tr>\n",
       "    <tr>\n",
       "      <th>3</th>\n",
       "      <td>2025-01-04_08-40-12_3.jpg</td>\n",
       "      <td>0.3</td>\n",
       "      <td>1080</td>\n",
       "      <td>1920</td>\n",
       "      <td>NaN</td>\n",
       "      <td>2025-01-04_08-40-12.mp4</td>\n",
       "      <td>3</td>\n",
       "    </tr>\n",
       "    <tr>\n",
       "      <th>4</th>\n",
       "      <td>2025-01-04_08-40-12_4.jpg</td>\n",
       "      <td>0.4</td>\n",
       "      <td>1080</td>\n",
       "      <td>1920</td>\n",
       "      <td>NaN</td>\n",
       "      <td>2025-01-04_08-40-12.mp4</td>\n",
       "      <td>4</td>\n",
       "    </tr>\n",
       "    <tr>\n",
       "      <th>...</th>\n",
       "      <td>...</td>\n",
       "      <td>...</td>\n",
       "      <td>...</td>\n",
       "      <td>...</td>\n",
       "      <td>...</td>\n",
       "      <td>...</td>\n",
       "      <td>...</td>\n",
       "    </tr>\n",
       "    <tr>\n",
       "      <th>14360</th>\n",
       "      <td>2024-11-10-18-25-41_434.jpg</td>\n",
       "      <td>43.4</td>\n",
       "      <td>666</td>\n",
       "      <td>1240</td>\n",
       "      <td>NaN</td>\n",
       "      <td>2024-11-10-18-25-41.mp4</td>\n",
       "      <td>434</td>\n",
       "    </tr>\n",
       "    <tr>\n",
       "      <th>14361</th>\n",
       "      <td>2024-11-10-18-25-41_435.jpg</td>\n",
       "      <td>43.5</td>\n",
       "      <td>666</td>\n",
       "      <td>1240</td>\n",
       "      <td>NaN</td>\n",
       "      <td>2024-11-10-18-25-41.mp4</td>\n",
       "      <td>435</td>\n",
       "    </tr>\n",
       "    <tr>\n",
       "      <th>14362</th>\n",
       "      <td>2024-11-10-18-25-41_436.jpg</td>\n",
       "      <td>43.6</td>\n",
       "      <td>666</td>\n",
       "      <td>1240</td>\n",
       "      <td>NaN</td>\n",
       "      <td>2024-11-10-18-25-41.mp4</td>\n",
       "      <td>436</td>\n",
       "    </tr>\n",
       "    <tr>\n",
       "      <th>14363</th>\n",
       "      <td>2024-11-10-18-25-41_437.jpg</td>\n",
       "      <td>43.7</td>\n",
       "      <td>666</td>\n",
       "      <td>1240</td>\n",
       "      <td>NaN</td>\n",
       "      <td>2024-11-10-18-25-41.mp4</td>\n",
       "      <td>437</td>\n",
       "    </tr>\n",
       "    <tr>\n",
       "      <th>14364</th>\n",
       "      <td>2024-11-10-18-25-41_438.jpg</td>\n",
       "      <td>43.8</td>\n",
       "      <td>666</td>\n",
       "      <td>1240</td>\n",
       "      <td>NaN</td>\n",
       "      <td>2024-11-10-18-25-41.mp4</td>\n",
       "      <td>438</td>\n",
       "    </tr>\n",
       "  </tbody>\n",
       "</table>\n",
       "<p>14365 rows × 7 columns</p>\n",
       "</div>"
      ],
      "text/plain": [
       "                    frame_filename  second  height  width labels  \\\n",
       "0        2025-01-04_08-40-12_0.jpg     0.0    1080   1920    NaN   \n",
       "1        2025-01-04_08-40-12_1.jpg     0.1    1080   1920    NaN   \n",
       "2        2025-01-04_08-40-12_2.jpg     0.2    1080   1920    NaN   \n",
       "3        2025-01-04_08-40-12_3.jpg     0.3    1080   1920    NaN   \n",
       "4        2025-01-04_08-40-12_4.jpg     0.4    1080   1920    NaN   \n",
       "...                            ...     ...     ...    ...    ...   \n",
       "14360  2024-11-10-18-25-41_434.jpg    43.4     666   1240    NaN   \n",
       "14361  2024-11-10-18-25-41_435.jpg    43.5     666   1240    NaN   \n",
       "14362  2024-11-10-18-25-41_436.jpg    43.6     666   1240    NaN   \n",
       "14363  2024-11-10-18-25-41_437.jpg    43.7     666   1240    NaN   \n",
       "14364  2024-11-10-18-25-41_438.jpg    43.8     666   1240    NaN   \n",
       "\n",
       "                video_filename  frame_idx  \n",
       "0      2025-01-04_08-40-12.mp4          0  \n",
       "1      2025-01-04_08-40-12.mp4          1  \n",
       "2      2025-01-04_08-40-12.mp4          2  \n",
       "3      2025-01-04_08-40-12.mp4          3  \n",
       "4      2025-01-04_08-40-12.mp4          4  \n",
       "...                        ...        ...  \n",
       "14360  2024-11-10-18-25-41.mp4        434  \n",
       "14361  2024-11-10-18-25-41.mp4        435  \n",
       "14362  2024-11-10-18-25-41.mp4        436  \n",
       "14363  2024-11-10-18-25-41.mp4        437  \n",
       "14364  2024-11-10-18-25-41.mp4        438  \n",
       "\n",
       "[14365 rows x 7 columns]"
      ]
     },
     "execution_count": 36,
     "metadata": {},
     "output_type": "execute_result"
    }
   ],
   "source": [
    "df"
   ]
  },
  {
   "cell_type": "code",
   "execution_count": 37,
   "metadata": {},
   "outputs": [],
   "source": [
    "df[\"left_actions\"] = labels_df[\"left_actions\"]\n",
    "df[\"right_actions\"] = labels_df[\"right_actions\"]\n",
    "df[\"left_outcomes\"] = labels_df[\"left_outcomes\"]\n",
    "df[\"right_outcomes\"] = labels_df[\"right_outcomes\"]"
   ]
  },
  {
   "cell_type": "code",
   "execution_count": 39,
   "metadata": {},
   "outputs": [],
   "source": [
    "df = df.drop(columns=[\"labels\"])"
   ]
  },
  {
   "cell_type": "code",
   "execution_count": 82,
   "metadata": {},
   "outputs": [],
   "source": [
    "df.to_csv(\"input/data_10hz/frame_label.csv\", index=False)"
   ]
  },
  {
   "cell_type": "code",
   "execution_count": null,
   "metadata": {},
   "outputs": [],
   "source": []
  }
 ],
 "metadata": {
  "kernelspec": {
   "display_name": ".venv",
   "language": "python",
   "name": "python3"
  },
  "language_info": {
   "codemirror_mode": {
    "name": "ipython",
    "version": 3
   },
   "file_extension": ".py",
   "mimetype": "text/x-python",
   "name": "python",
   "nbconvert_exporter": "python",
   "pygments_lexer": "ipython3",
   "version": "3.10.12"
  }
 },
 "nbformat": 4,
 "nbformat_minor": 2
}
